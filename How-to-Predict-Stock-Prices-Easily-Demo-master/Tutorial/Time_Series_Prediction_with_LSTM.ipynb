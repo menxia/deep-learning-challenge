{
 "cells": [
  {
   "cell_type": "code",
   "execution_count": 1,
   "metadata": {
    "collapsed": false
   },
   "outputs": [
    {
     "name": "stderr",
     "output_type": "stream",
     "text": [
      "Using TensorFlow backend.\n"
     ]
    }
   ],
   "source": [
    "import numpy as np\n",
    "import pandas as pd\n",
    "import matplotlib.pyplot as plt\n",
    "import keras\n",
    "%matplotlib inline"
   ]
  },
  {
   "cell_type": "code",
   "execution_count": 2,
   "metadata": {
    "collapsed": false
   },
   "outputs": [
    {
     "data": {
      "image/png": "[encoded data removed]",
      "text/plain": [
       "<matplotlib.figure.Figure at 0x1181936a0>"
      ]
     },
     "metadata": {},
     "output_type": "display_data"
    }
   ],
   "source": [
    "dataset = pd.read_csv('international-airline-passengers.csv', usecols=[1], engine='python', skipfooter=3)\n",
    "plt.plot(dataset)\n",
    "plt.show()"
   ]
  },
  {
   "cell_type": "code",
   "execution_count": 3,
   "metadata": {
    "collapsed": true
   },
   "outputs": [],
   "source": [
    "from sklearn.preprocessing import MinMaxScaler\n",
    "scaler = MinMaxScaler(feature_range=(0,1))"
   ]
  },
  {
   "cell_type": "code",
   "execution_count": 4,
   "metadata": {
    "collapsed": false
   },
   "outputs": [
    {
     "name": "stderr",
     "output_type": "stream",
     "text": [
      "/Users/fanfan/anaconda/envs/dlnd-tf-lab/lib/python3.5/site-packages/sklearn/utils/validation.py:429: DataConversionWarning: Data with input dtype int64 was converted to float64 by MinMaxScaler.\n",
      "  warnings.warn(msg, _DataConversionWarning)\n"
     ]
    }
   ],
   "source": [
    "dataset = scaler.fit_transform(dataset.values)"
   ]
  },
  {
   "cell_type": "code",
   "execution_count": 5,
   "metadata": {
    "collapsed": false
   },
   "outputs": [
    {
     "data": {
      "text/plain": [
       "(144, 1)"
      ]
     },
     "execution_count": 5,
     "metadata": {},
     "output_type": "execute_result"
    }
   ],
   "source": [
    "dataset.shape"
   ]
  },
  {
   "cell_type": "code",
   "execution_count": 6,
   "metadata": {
    "collapsed": false
   },
   "outputs": [],
   "source": [
    "train_size = int(len(dataset) * 0.67)\n",
    "test_size = len(dataset)-train_size\n",
    "train, test = dataset[0:train_size], dataset[train_size:]"
   ]
  },
  {
   "cell_type": "code",
   "execution_count": 7,
   "metadata": {
    "collapsed": true
   },
   "outputs": [],
   "source": [
    "def create_dataset(dataset, look_back = 1):\n",
    "    dataX, dataY = [], []\n",
    "    for i in range(len(dataset) - look_back - 1):\n",
    "        a = dataset[i:(i+look_back),0]\n",
    "        dataX.append(a)\n",
    "        dataY.append(dataset[i+look_back, 0])\n",
    "    return np.array(dataX), np.array(dataY)"
   ]
  },
  {
   "cell_type": "code",
   "execution_count": 8,
   "metadata": {
    "collapsed": false
   },
   "outputs": [
    {
     "data": {
      "text/plain": [
       "(96, 1)"
      ]
     },
     "execution_count": 8,
     "metadata": {},
     "output_type": "execute_result"
    }
   ],
   "source": [
    "train.shape"
   ]
  },
  {
   "cell_type": "code",
   "execution_count": 19,
   "metadata": {
    "collapsed": false
   },
   "outputs": [],
   "source": [
    "look_back = 10\n",
    "trainX, trainY = create_dataset(train, look_back)\n",
    "testX, testY = create_dataset(test, look_back)"
   ]
  },
  {
   "cell_type": "markdown",
   "metadata": {},
   "source": [
    "The LSTM network expects the input data (X) to be provided with a specific array structure in the form of: [samples, time steps, features]."
   ]
  },
  {
   "cell_type": "code",
   "execution_count": 20,
   "metadata": {
    "collapsed": false
   },
   "outputs": [],
   "source": [
    "trainX = np.reshape(trainX, (trainX.shape[0], trainX.shape[1], 1))\n",
    "testX = np.reshape(testX, (testX.shape[0], testX.shape[1], 1))"
   ]
  },
  {
   "cell_type": "code",
   "execution_count": 11,
   "metadata": {
    "collapsed": true
   },
   "outputs": [],
   "source": [
    "from keras.models import Sequential\n",
    "from keras.layers import LSTM, Input, Dense"
   ]
  },
  {
   "cell_type": "code",
   "execution_count": 12,
   "metadata": {
    "collapsed": false
   },
   "outputs": [
    {
     "name": "stdout",
     "output_type": "stream",
     "text": [
      "Epoch 1/100\n",
      "4s - loss: 0.0129\n",
      "Epoch 2/100\n",
      "3s - loss: 0.0065\n",
      "Epoch 3/100\n",
      "3s - loss: 0.0060\n",
      "Epoch 4/100\n",
      "3s - loss: 0.0053\n",
      "Epoch 5/100\n",
      "3s - loss: 0.0048\n",
      "Epoch 6/100\n",
      "2s - loss: 0.0047\n",
      "Epoch 7/100\n",
      "3s - loss: 0.0045\n",
      "Epoch 8/100\n",
      "3s - loss: 0.0045\n",
      "Epoch 9/100\n",
      "2s - loss: 0.0045\n",
      "Epoch 10/100\n",
      "3s - loss: 0.0045\n",
      "Epoch 11/100\n",
      "3s - loss: 0.0044\n",
      "Epoch 12/100\n",
      "2s - loss: 0.0045\n",
      "Epoch 13/100\n",
      "2s - loss: 0.0045\n",
      "Epoch 14/100\n",
      "2s - loss: 0.0044\n",
      "Epoch 15/100\n",
      "3s - loss: 0.0043\n",
      "Epoch 16/100\n",
      "3s - loss: 0.0043\n",
      "Epoch 17/100\n",
      "3s - loss: 0.0044\n",
      "Epoch 18/100\n",
      "3s - loss: 0.0044\n",
      "Epoch 19/100\n",
      "3s - loss: 0.0044\n",
      "Epoch 20/100\n",
      "3s - loss: 0.0042\n",
      "Epoch 21/100\n",
      "3s - loss: 0.0041\n",
      "Epoch 22/100\n",
      "3s - loss: 0.0044\n",
      "Epoch 23/100\n",
      "3s - loss: 0.0042\n",
      "Epoch 24/100\n",
      "3s - loss: 0.0043\n",
      "Epoch 25/100\n",
      "3s - loss: 0.0042\n",
      "Epoch 26/100\n",
      "3s - loss: 0.0042\n",
      "Epoch 27/100\n",
      "2s - loss: 0.0042\n",
      "Epoch 28/100\n",
      "3s - loss: 0.0040\n",
      "Epoch 29/100\n",
      "3s - loss: 0.0040\n",
      "Epoch 30/100\n",
      "3s - loss: 0.0039\n",
      "Epoch 31/100\n",
      "3s - loss: 0.0041\n",
      "Epoch 32/100\n",
      "3s - loss: 0.0039\n",
      "Epoch 33/100\n",
      "3s - loss: 0.0041\n",
      "Epoch 34/100\n",
      "3s - loss: 0.0039\n",
      "Epoch 35/100\n",
      "3s - loss: 0.0040\n",
      "Epoch 36/100\n",
      "3s - loss: 0.0040\n",
      "Epoch 37/100\n",
      "3s - loss: 0.0040\n",
      "Epoch 38/100\n",
      "3s - loss: 0.0037\n",
      "Epoch 39/100\n",
      "3s - loss: 0.0037\n",
      "Epoch 40/100\n",
      "3s - loss: 0.0038\n",
      "Epoch 41/100\n",
      "3s - loss: 0.0038\n",
      "Epoch 42/100\n",
      "3s - loss: 0.0037\n",
      "Epoch 43/100\n",
      "3s - loss: 0.0036\n",
      "Epoch 44/100\n",
      "3s - loss: 0.0036\n",
      "Epoch 45/100\n",
      "3s - loss: 0.0034\n",
      "Epoch 46/100\n",
      "3s - loss: 0.0034\n",
      "Epoch 47/100\n",
      "3s - loss: 0.0034\n",
      "Epoch 48/100\n",
      "3s - loss: 0.0034\n",
      "Epoch 49/100\n",
      "3s - loss: 0.0034\n",
      "Epoch 50/100\n",
      "2s - loss: 0.0032\n",
      "Epoch 51/100\n",
      "2s - loss: 0.0032\n",
      "Epoch 52/100\n",
      "3s - loss: 0.0031\n",
      "Epoch 53/100\n",
      "2s - loss: 0.0032\n",
      "Epoch 54/100\n",
      "3s - loss: 0.0029\n",
      "Epoch 55/100\n",
      "3s - loss: 0.0029\n",
      "Epoch 56/100\n",
      "2s - loss: 0.0028\n",
      "Epoch 57/100\n",
      "2s - loss: 0.0027\n",
      "Epoch 58/100\n",
      "3s - loss: 0.0029\n",
      "Epoch 59/100\n",
      "3s - loss: 0.0026\n",
      "Epoch 60/100\n",
      "2s - loss: 0.0027\n",
      "Epoch 61/100\n",
      "2s - loss: 0.0025\n",
      "Epoch 62/100\n",
      "2s - loss: 0.0024\n",
      "Epoch 63/100\n",
      "3s - loss: 0.0023\n",
      "Epoch 64/100\n",
      "3s - loss: 0.0023\n",
      "Epoch 65/100\n",
      "2s - loss: 0.0023\n",
      "Epoch 66/100\n",
      "3s - loss: 0.0022\n",
      "Epoch 67/100\n",
      "3s - loss: 0.0022\n",
      "Epoch 68/100\n",
      "3s - loss: 0.0021\n",
      "Epoch 69/100\n",
      "3s - loss: 0.0021\n",
      "Epoch 70/100\n",
      "3s - loss: 0.0021\n",
      "Epoch 71/100\n",
      "3s - loss: 0.0020\n",
      "Epoch 72/100\n",
      "2s - loss: 0.0020\n",
      "Epoch 73/100\n",
      "3s - loss: 0.0020\n",
      "Epoch 74/100\n",
      "3s - loss: 0.0020\n",
      "Epoch 75/100\n",
      "3s - loss: 0.0019\n",
      "Epoch 76/100\n",
      "3s - loss: 0.0019\n",
      "Epoch 77/100\n",
      "3s - loss: 0.0020\n",
      "Epoch 78/100\n",
      "2s - loss: 0.0018\n",
      "Epoch 79/100\n",
      "3s - loss: 0.0019\n",
      "Epoch 80/100\n",
      "3s - loss: 0.0019\n",
      "Epoch 81/100\n",
      "3s - loss: 0.0018\n",
      "Epoch 82/100\n",
      "3s - loss: 0.0018\n",
      "Epoch 83/100\n",
      "3s - loss: 0.0017\n",
      "Epoch 84/100\n",
      "3s - loss: 0.0019\n",
      "Epoch 85/100\n",
      "3s - loss: 0.0018\n",
      "Epoch 86/100\n",
      "3s - loss: 0.0017\n",
      "Epoch 87/100\n",
      "2s - loss: 0.0017\n",
      "Epoch 88/100\n",
      "3s - loss: 0.0016\n",
      "Epoch 89/100\n",
      "3s - loss: 0.0018\n",
      "Epoch 90/100\n",
      "3s - loss: 0.0017\n",
      "Epoch 91/100\n",
      "3s - loss: 0.0017\n",
      "Epoch 92/100\n",
      "2s - loss: 0.0017\n",
      "Epoch 93/100\n",
      "3s - loss: 0.0018\n",
      "Epoch 94/100\n",
      "2s - loss: 0.0017\n",
      "Epoch 95/100\n",
      "3s - loss: 0.0016\n",
      "Epoch 96/100\n",
      "3s - loss: 0.0016\n",
      "Epoch 97/100\n",
      "3s - loss: 0.0016\n",
      "Epoch 98/100\n",
      "3s - loss: 0.0017\n",
      "Epoch 99/100\n",
      "3s - loss: 0.0016\n",
      "Epoch 100/100\n",
      "3s - loss: 0.0015\n"
     ]
    },
    {
     "data": {
      "text/plain": [
       "<keras.callbacks.History at 0x11de0a978>"
      ]
     },
     "execution_count": 12,
     "metadata": {},
     "output_type": "execute_result"
    }
   ],
   "source": [
    "model = Sequential()\n",
    "model.add(LSTM(4, input_shape=(look_back,1)))\n",
    "model.add(Dense(1))\n",
    "model.compile(loss='mean_squared_error', optimizer='adam')\n",
    "model.fit(trainX, trainY, epochs=100, batch_size=1, verbose=2)"
   ]
  },
  {
   "cell_type": "code",
   "execution_count": 15,
   "metadata": {
    "collapsed": false
   },
   "outputs": [
    {
     "data": {
      "text/plain": [
       "array([  53976.,   61228.,   59674.,   65372.,   73142.,   70034.,\n",
       "         64854.,   77286.,   88164.,   88164.,   81948.,   68998.,\n",
       "         59156.,   72624.,   75214.,   77804.,   92308.,   84538.,\n",
       "         89200.,   92308.,  103186.,  103186.,   95416.,   84020.,\n",
       "         75732.,   86092.,   88682.,   93344.,  100078.,   93862.,\n",
       "         94898.,  113028.,  119244.,  125460.,  108366.,   99042.,\n",
       "         89200.,  100596.,  101632.,  101632.,  122352.,  121834.,\n",
       "        118726.,  125978.,  136856.,  141000.,  122870.,  109402.,\n",
       "         93344.,  104222.,  105776.,   97488.,  121834.,  117690.,\n",
       "        121316.,  136856.,  156540.,  151878.,  134266.,  118726.,\n",
       "        105258.,  118726.,  125460.,  120798.,  138410.,  139446.,\n",
       "        139964.,  163274.,  188656.,  179850.,  161720.,  142036.,\n",
       "        122870.,  144108.,  147216.,  143590.,  164310.,  162238.,\n",
       "        164828.,  193836.,  214038.,  209894.,  183994.,  158612.,  140482.])"
      ]
     },
     "execution_count": 15,
     "metadata": {},
     "output_type": "execute_result"
    }
   ],
   "source": [
    "trainY"
   ]
  },
  {
   "cell_type": "code",
   "execution_count": 21,
   "metadata": {
    "collapsed": false
   },
   "outputs": [
    {
     "name": "stdout",
     "output_type": "stream",
     "text": [
      "Train Score: 24.37 RMSE\n",
      "Test Score: 41.24 RMSE\n"
     ]
    },
    {
     "name": "stderr",
     "output_type": "stream",
     "text": [
      "/Users/fanfan/anaconda/envs/dlnd-tf-lab/lib/python3.5/site-packages/sklearn/preprocessing/data.py:374: DeprecationWarning: Passing 1d arrays as data is deprecated in 0.17 and will raise ValueError in 0.19. Reshape your data either using X.reshape(-1, 1) if your data has a single feature or X.reshape(1, -1) if it contains a single sample.\n",
      "  warnings.warn(DEPRECATION_MSG_1D, DeprecationWarning)\n",
      "/Users/fanfan/anaconda/envs/dlnd-tf-lab/lib/python3.5/site-packages/sklearn/preprocessing/data.py:374: DeprecationWarning: Passing 1d arrays as data is deprecated in 0.17 and will raise ValueError in 0.19. Reshape your data either using X.reshape(-1, 1) if your data has a single feature or X.reshape(1, -1) if it contains a single sample.\n",
      "  warnings.warn(DEPRECATION_MSG_1D, DeprecationWarning)\n"
     ]
    }
   ],
   "source": [
    "import math\n",
    "from sklearn.metrics import mean_squared_error\n",
    "trainPredict = model.predict(trainX)\n",
    "testPredict = model.predict(testX)\n",
    "# invert predictions\n",
    "trainPredict = scaler.inverse_transform(trainPredict)\n",
    "trainY = scaler.inverse_transform(trainY)\n",
    "testPredict = scaler.inverse_transform(testPredict)\n",
    "testY = scaler.inverse_transform(testY)\n",
    "# calculate root mean squared error\n",
    "trainScore = math.sqrt(mean_squared_error(trainY, trainPredict[:,0]))\n",
    "print('Train Score: %.2f RMSE' % (trainScore))\n",
    "testScore = math.sqrt(mean_squared_error(testY, testPredict[:,0]))\n",
    "print('Test Score: %.2f RMSE' % (testScore))"
   ]
  },
  {
   "cell_type": "code",
   "execution_count": 25,
   "metadata": {
    "collapsed": false
   },
   "outputs": [
    {
     "data": {
      "image/png": "[encoded data removed]",
      "text/plain": [
       "<matplotlib.figure.Figure at 0x11dfbec50>"
      ]
     },
     "metadata": {},
     "output_type": "display_data"
    }
   ],
   "source": [
    "import numpy\n",
    "trainPredictPlot = numpy.empty_like(dataset)\n",
    "trainPredictPlot[:, :] = numpy.nan\n",
    "trainPredictPlot[look_back:len(trainPredict)+look_back, :] = trainPredict\n",
    "# shift test predictions for plotting\n",
    "testPredictPlot = numpy.empty_like(dataset)\n",
    "testPredictPlot[:, :] = numpy.nan\n",
    "testPredictPlot[len(trainPredict)+(look_back*2)+1:len(dataset)-1, :] = testPredict\n",
    "# plot baseline and predictions\n",
    "plt.plot(scaler.inverse_transform(dataset))\n",
    "plt.plot(trainPredictPlot)\n",
    "plt.plot(testPredictPlot)\n",
    "plt.show()"
   ]
  },
  {
   "cell_type": "code",
   "execution_count": null,
   "metadata": {
    "collapsed": true
   },
   "outputs": [],
   "source": []
  }
 ],
 "metadata": {
  "anaconda-cloud": {},
  "kernelspec": {
   "display_name": "Python [conda env:dlnd-tf-lab]",
   "language": "python",
   "name": "conda-env-dlnd-tf-lab-py"
  },
  "language_info": {
   "codemirror_mode": {
    "name": "ipython",
    "version": 3
   },
   "file_extension": ".py",
   "mimetype": "text/x-python",
   "name": "python",
   "nbconvert_exporter": "python",
   "pygments_lexer": "ipython3",
   "version": "3.5.3"
  }
 },
 "nbformat": 4,
 "nbformat_minor": 1
}
