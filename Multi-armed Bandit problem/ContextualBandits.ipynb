{
 "cells": [
  {
   "cell_type": "code",
   "execution_count": 1,
   "metadata": {
    "collapsed": true
   },
   "outputs": [],
   "source": [
    "# Compared to the simple multi-armed bandits, contextual Bandits introduce the concept of the state.\n",
    "# In this problem, instead of a single bandit, there can now be multiple bandits. \n",
    "# The state of the environment tells us which bandit we are dealing with, and the goal of the agent is to learn the best action not just for a single bandit, but for any number of them.\n",
    "# We will be building a single-layer neural network in Tensorflow that takes a state and produces an action.\n",
    "# By using a policy-gradient update method, we can have the network learn to take actions that maximize its reward."
   ]
  },
  {
   "cell_type": "code",
   "execution_count": 2,
   "metadata": {
    "collapsed": true
   },
   "outputs": [],
   "source": [
    "import tensorflow as tf\n",
    "import numpy as np"
   ]
  },
  {
   "cell_type": "markdown",
   "metadata": {},
   "source": [
    "## The Contextual Bandits"
   ]
  },
  {
   "cell_type": "code",
   "execution_count": 3,
   "metadata": {
    "collapsed": true
   },
   "outputs": [],
   "source": [
    "# Here we define our contextual bandits. \n",
    "# In this example, we are using three four-armed bandit. \n",
    "class contextual_bandit():\n",
    "    def __init__(self):\n",
    "        self.state = 0\n",
    "        #List out our bandits. Currently arms 4, 2, and 1 (respectively) are the most optimal.\n",
    "        self.bandits = np.array([[0.2,0,-0.0,-5],[0.1,-5,1,0.25],[-5,5,5,5]])\n",
    "        self.num_bandits = self.bandits.shape[0]\n",
    "        self.num_actions = self.bandits.shape[1]\n",
    "    \n",
    "    def getBandit(self):\n",
    "        self.state = np.random.randint(0,len(self.bandits))\n",
    "        return self.state\n",
    "    \n",
    "    def pullArm(self, action):\n",
    "        bandit = self.bandits[self.state,action]\n",
    "        result = np.random.randn(1)\n",
    "        if result > bandit:\n",
    "            #return a positive reward.\n",
    "            return 1\n",
    "        else:\n",
    "            #return a negative reward.\n",
    "            return -1"
   ]
  },
  {
   "cell_type": "markdown",
   "metadata": {},
   "source": [
    "## The Policy-Based Agent"
   ]
  },
  {
   "cell_type": "code",
   "execution_count": 6,
   "metadata": {
    "collapsed": false
   },
   "outputs": [],
   "source": [
    "class agent():\n",
    "    def __init__(self, lr, s_size, a_size):\n",
    "        # Establish the feed-forward network. The agent takes a state and produces an action\n",
    "        self.state_in= tf.placeholder(shape=[1],dtype=tf.int32)\n",
    "        state_in_OH= tf.one_hot(self.state_in, s_size)\n",
    "        output = tf.contrib.layers.fully_connected(state_in_OH, a_size, \n",
    "                                                   activation_fn=tf.nn.sigmoid,\n",
    "                                                   weights_initializer = tf.ones_initializer())\n",
    "        self.output = tf.reshape(output, [-1])\n",
    "        self.chosen_action = tf.argmax(self.output, 0)\n",
    "        # Establish the training procedure\n",
    "        self.reward_holder = tf.placeholder(shape=[1],dtype=tf.float32)\n",
    "        self.action_holder = tf.placeholder(shape=[1],dtype=tf.int32)\n",
    "        self.responsible_weight = tf.slice(self.output,self.action_holder,[1])\n",
    "        self.loss = -(tf.log(self.responsible_weight)*self.reward_holder)\n",
    "        optimizer = tf.train.GradientDescentOptimizer(learning_rate=lr)\n",
    "        self.update = optimizer.minimize(self.loss)"
   ]
  },
  {
   "cell_type": "markdown",
   "metadata": {},
   "source": [
    "## Training the Agent"
   ]
  },
  {
   "cell_type": "code",
   "execution_count": 7,
   "metadata": {
    "collapsed": false
   },
   "outputs": [
    {
     "name": "stdout",
     "output_type": "stream",
     "text": [
      "Mean reward for each of the 3 bandits: [ 0.    0.    0.25]\n",
      "Mean reward for each of the 3 bandits: [ -2.    -3.25  35.  ]\n",
      "Mean reward for each of the 3 bandits: [ -2.    -2.5   70.75]\n",
      "Mean reward for each of the 3 bandits: [  -7.75  -13.    109.  ]\n",
      "Mean reward for each of the 3 bandits: [ -15.    -12.25  146.  ]\n",
      "Mean reward for each of the 3 bandits: [ -22.75  -17.25  181.75]\n",
      "Mean reward for each of the 3 bandits: [ -26.25  -23.5   220.5 ]\n",
      "Mean reward for each of the 3 bandits: [ -32.    -26.5   254.75]\n",
      "Mean reward for each of the 3 bandits: [ -40.25  -32.    295.  ]\n",
      "Mean reward for each of the 3 bandits: [ -46.    -40.5   325.75]\n",
      "Mean reward for each of the 3 bandits: [ -52.    -44.5   361.75]\n",
      "Mean reward for each of the 3 bandits: [ -53.5   -49.    393.25]\n",
      "Mean reward for each of the 3 bandits: [ -58.75  -53.    429.5 ]\n",
      "Mean reward for each of the 3 bandits: [ -68.    -57.75  467.5 ]\n",
      "Mean reward for each of the 3 bandits: [ -74.5   -56.75  500.5 ]\n",
      "Mean reward for each of the 3 bandits: [ -80.25  -59.75  535.75]\n",
      "Mean reward for each of the 3 bandits: [ -86.5   -62.25  573.  ]\n",
      "Mean reward for each of the 3 bandits: [ -89.25  -67.75  610.25]\n",
      "Mean reward for each of the 3 bandits: [-100.5   -66.25  648.5 ]\n",
      "Mean reward for each of the 3 bandits: [-102.75  -62.75  687.75]\n",
      "The agent thinks action 4 for bandit 1 is the most promising....\n",
      "...and it was right!\n",
      "The agent thinks action 2 for bandit 2 is the most promising....\n",
      "...and it was right!\n",
      "The agent thinks action 1 for bandit 3 is the most promising....\n",
      "...and it was right!\n"
     ]
    }
   ],
   "source": [
    "# We will train our agent by getting a state from the environment, take an action, and recieve a reward. \n",
    "tf.reset_default_graph()\n",
    "\n",
    "cBandit = contextual_bandit()\n",
    "myAgent = agent(lr=0.001,s_size=cBandit.num_bandits,a_size=cBandit.num_actions)\n",
    "# The weights we will evaluate to look into the network\n",
    "weights = tf.trainable_variables()[0]\n",
    "\n",
    "total_episodes = 10000 \n",
    "total_reward = np.zeros([cBandit.num_bandits,cBandit.num_actions])\n",
    "e = 0.1 #Set the chance of taking a random action.\n",
    "\n",
    "init = tf.global_variables_initializer()\n",
    "\n",
    "with tf.Session() as sess:\n",
    "    sess.run(init)\n",
    "    for i in range(total_episodes):\n",
    "        s = cBandit.getBandit()\n",
    "        \n",
    "        if np.random.rand(1) < e:\n",
    "            action = np.random.randint(cBandit.num_actions)\n",
    "        else:\n",
    "            action = sess.run(myAgent.chosen_action,feed_dict={myAgent.state_in:[s]})\n",
    "            \n",
    "        reward = cBandit.pullArm(action) #Get our reward for taking an action given a bandit.\n",
    "        \n",
    "        #Update the network.\n",
    "        feed_dict={myAgent.reward_holder:[reward],myAgent.action_holder:[action],myAgent.state_in:[s]}\n",
    "        _,ww = sess.run([myAgent.update,weights], feed_dict=feed_dict)\n",
    "        \n",
    "        #Update our running tally of scores.\n",
    "        total_reward[s,action] += reward\n",
    "        if i % 500 == 0:\n",
    "            print(\"Mean reward for each of the \" + str(cBandit.num_bandits) + \" bandits: \" + str(np.mean(total_reward,axis=1)))\n",
    "\n",
    "for a in range(cBandit.num_bandits):\n",
    "    print(\"The agent thinks action \" + str(np.argmax(ww[a])+1) + \" for bandit \" + str(a+1) + \" is the most promising....\")\n",
    "    if np.argmax(ww[a]) == np.argmin(cBandit.bandits[a]):\n",
    "        print(\"...and it was right!\")\n",
    "    else:\n",
    "        print(\"...and it was wrong!\")"
   ]
  },
  {
   "cell_type": "code",
   "execution_count": null,
   "metadata": {
    "collapsed": true
   },
   "outputs": [],
   "source": []
  }
 ],
 "metadata": {
  "kernelspec": {
   "display_name": "Python [conda env:dlnd-tf-lab]",
   "language": "python",
   "name": "conda-env-dlnd-tf-lab-py"
  },
  "language_info": {
   "codemirror_mode": {
    "name": "ipython",
    "version": 3
   },
   "file_extension": ".py",
   "mimetype": "text/x-python",
   "name": "python",
   "nbconvert_exporter": "python",
   "pygments_lexer": "ipython3",
   "version": "3.5.3"
  }
 },
 "nbformat": 4,
 "nbformat_minor": 1
}
